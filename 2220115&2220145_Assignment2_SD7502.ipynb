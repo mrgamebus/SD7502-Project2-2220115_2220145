{
 "cells": [
  {
   "cell_type": "code",
   "execution_count": 1,
   "id": "a068d275-0fff-4ee9-a420-e56988b84ffc",
   "metadata": {},
   "outputs": [],
   "source": [
    "#SD7502 Assignment 2 "
   ]
  },
  {
   "cell_type": "code",
   "execution_count": 3,
   "id": "cc05fb04-a1cd-41b9-b2cf-895f936a5036",
   "metadata": {},
   "outputs": [],
   "source": [
    "#1: Loading and analysing data "
   ]
  },
  {
   "cell_type": "code",
   "execution_count": null,
   "id": "b98da2d0-9052-4da9-aa84-a5f756224fef",
   "metadata": {},
   "outputs": [],
   "source": []
  }
 ],
 "metadata": {
  "kernelspec": {
   "display_name": "Python 3 (ipykernel)",
   "language": "python",
   "name": "python3"
  },
  "language_info": {
   "codemirror_mode": {
    "name": "ipython",
    "version": 3
   },
   "file_extension": ".py",
   "mimetype": "text/x-python",
   "name": "python",
   "nbconvert_exporter": "python",
   "pygments_lexer": "ipython3",
   "version": "3.12.4"
  }
 },
 "nbformat": 4,
 "nbformat_minor": 5
}
